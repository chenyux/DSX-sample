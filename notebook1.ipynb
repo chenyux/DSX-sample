{
    "nbformat_minor": 1, 
    "cells": [
        {
            "source": "# My Jupyter Notebook on IBM Data Science Experience", 
            "cell_type": "markdown", 
            "metadata": {}
        }, 
        {
            "source": "**YuXiang (Jonathan) Chen**\nIBM Architect", 
            "cell_type": "markdown", 
            "metadata": {}
        }, 
        {
            "source": "_I am interested in data science because it give me insight of the data_", 
            "cell_type": "markdown", 
            "metadata": {}
        }, 
        {
            "source": "### take a look the following code, 1 + 1 should be 2", 
            "cell_type": "markdown", 
            "metadata": {}
        }, 
        {
            "execution_count": 6, 
            "cell_type": "code", 
            "metadata": {}, 
            "outputs": [
                {
                    "execution_count": 6, 
                    "metadata": {}, 
                    "data": {
                        "text/plain": "2"
                    }, 
                    "output_type": "execute_result"
                }
            ], 
            "source": "1 + 1"
        }, 
        {
            "source": "# List some fruits\n* Apple\n- Orange\n+ Banana\n\n# Nested list\n- item\n  - nested item\n    - nested item\n      - nested item\n\n# Steps\n1. first\n2. second\n3. third\n\n\n\n# Horizontal rule\n***\n\n\n# Quotes\nJust like he said: \n>Do the right things, do the thing right.\n\n\nUse `git status` to list all new or modified files that haven't yet been committed.\n\nSome basic Git commands are:\n```\ngit status\ngit add\ngit commit\n```\n\n# Hyperlinks\nThis site was built using [GitHub Pages](https://pages.github.com/).\n\n[Data Science](https://datascience.ibm.com)\n![Base on IBM Cloud](https://www.ibm.com/cloud-computing/images/new-cloud/img/cloud.png)\n\n\n# Table\n| First Header  | Second Header |\n| ------------- | ------------- |\n| Content Cell  | Content Cell  |\n| Content Cell  | Content Cell  |\n\n", 
            "cell_type": "markdown", 
            "metadata": {}
        }, 
        {
            "execution_count": null, 
            "cell_type": "code", 
            "metadata": {}, 
            "outputs": [], 
            "source": ""
        }, 
        {
            "execution_count": null, 
            "cell_type": "code", 
            "metadata": {}, 
            "outputs": [], 
            "source": "# The code was removed by Watson Studio for sharing."
        }
    ], 
    "metadata": {
        "kernelspec": {
            "display_name": "Python 3.5", 
            "name": "python3", 
            "language": "python"
        }, 
        "language_info": {
            "mimetype": "text/x-python", 
            "nbconvert_exporter": "python", 
            "version": "3.5.5", 
            "name": "python", 
            "file_extension": ".py", 
            "pygments_lexer": "ipython3", 
            "codemirror_mode": {
                "version": 3, 
                "name": "ipython"
            }
        }
    }, 
    "nbformat": 4
}